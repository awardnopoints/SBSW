{
 "cells": [
  {
   "cell_type": "code",
   "execution_count": 1,
   "metadata": {
    "collapsed": true
   },
   "outputs": [],
   "source": [
    "import requests\n",
    "import json\n",
    "import csv\n",
    "import datetime"
   ]
  },
  {
   "cell_type": "code",
   "execution_count": 4,
   "metadata": {
    "collapsed": true
   },
   "outputs": [],
   "source": [
    "def call_api(url):\n",
    "    \"\"\"Calls API and returns info from that\"\"\"\n",
    "\n",
    "    req = requests.get(url)\n",
    "    return req"
   ]
  },
  {
   "cell_type": "code",
   "execution_count": 5,
   "metadata": {
    "collapsed": true
   },
   "outputs": [],
   "source": [
    "def write_file (data):\n",
    "    \"\"\"Retrieves information from Dublin Bikes API and stores as JSON\"\"\"\n",
    "\n",
    "    req_text= data.text\n",
    "    json_parsed=json.loads(req_text)\n",
    "    return json_parsed"
   ]
  },
  {
   "cell_type": "code",
   "execution_count": 104,
   "metadata": {
    "collapsed": true
   },
   "outputs": [],
   "source": [
    "df3 = pd.DataFrame(columns=['temp', 'temp_min', 'temp_max'])"
   ]
  },
  {
   "cell_type": "code",
   "execution_count": 110,
   "metadata": {
    "collapsed": true
   },
   "outputs": [],
   "source": [
    "def forecast_weather(self):\n",
    "    \"\"\"Selects and creates variables that will be stored in dynamic forecast weather table\"\"\"\n",
    "\n",
    "    list=json_parsed['list']\n",
    "\n",
    "    i=0\n",
    "    length=len(list)\n",
    "    while i < length:\n",
    "\n",
    "        first = list[i]\n",
    "        main=first['main']\n",
    "        temp = main['temp']\n",
    "        temp_min = main['temp_min']\n",
    "        temp_max = main['temp_max']\n",
    "        humidity = main['humidity']\n",
    "        pressure = main['pressure']\n",
    "        weather = first['weather']\n",
    "        weather_desc = weather[0]\n",
    "        description = weather_desc['description']\n",
    "        mainDescription = weather_desc['main']\n",
    "        wind = first['wind']\n",
    "        speed = wind['speed']\n",
    "        deg = wind['deg']\n",
    "        cloud=first['clouds']\n",
    "        cloudiness=cloud['all']\n",
    "        dt_txt = first['dt_txt']\n",
    "        i+=1\n",
    "        \n",
    "        print (temp)\n",
    "        df3.insert (temp, temp_min, temp_max)\n",
    "               #print(dt_txt)    \n",
    "  "
   ]
  },
  {
   "cell_type": "code",
   "execution_count": 111,
   "metadata": {
    "collapsed": true
   },
   "outputs": [],
   "source": [
    "url=\"http://api.openweathermap.org/data/2.5/forecast?id=2964574&units=metric&APPID=bb260f441e7da59a28734895b6574b4d\"\n",
    "#url=\"http://api.openweathermap.org/data/2.5/weather?id=2964574&units=metric&APPID=bb260f441e7da59a28734895b6574b4d\"\n",
    "call_api(url)\n",
    "data = call_api(url)\n",
    "json_parsed=write_file(data)"
   ]
  },
  {
   "cell_type": "code",
   "execution_count": 112,
   "metadata": {},
   "outputs": [
    {
     "name": "stdout",
     "output_type": "stream",
     "text": [
      "cod\n",
      "message\n",
      "cnt\n",
      "list\n",
      "city\n",
      "{'id': 2964574, 'name': 'Dublin', 'coord': {'lat': 53.344, 'lon': -6.2672}, 'country': 'IE'}\n"
     ]
    }
   ],
   "source": [
    "for i in json_parsed:\n",
    "    print (i)\n",
    "    \n",
    "print (json_parsed['city'])\n",
    "#parsed = weather.current_weather(json_parsed)"
   ]
  },
  {
   "cell_type": "code",
   "execution_count": 113,
   "metadata": {},
   "outputs": [
    {
     "data": {
      "text/html": [
       "<div>\n",
       "<style>\n",
       "    .dataframe thead tr:only-child th {\n",
       "        text-align: right;\n",
       "    }\n",
       "\n",
       "    .dataframe thead th {\n",
       "        text-align: left;\n",
       "    }\n",
       "\n",
       "    .dataframe tbody tr th {\n",
       "        vertical-align: top;\n",
       "    }\n",
       "</style>\n",
       "<table border=\"1\" class=\"dataframe\">\n",
       "  <thead>\n",
       "    <tr style=\"text-align: right;\">\n",
       "      <th></th>\n",
       "      <th>temp</th>\n",
       "      <th>temp_min</th>\n",
       "      <th>temp_max</th>\n",
       "    </tr>\n",
       "  </thead>\n",
       "  <tbody>\n",
       "  </tbody>\n",
       "</table>\n",
       "</div>"
      ],
      "text/plain": [
       "Empty DataFrame\n",
       "Columns: [temp, temp_min, temp_max]\n",
       "Index: []"
      ]
     },
     "execution_count": 113,
     "metadata": {},
     "output_type": "execute_result"
    }
   ],
   "source": [
    "df3"
   ]
  },
  {
   "cell_type": "code",
   "execution_count": 114,
   "metadata": {},
   "outputs": [
    {
     "name": "stdout",
     "output_type": "stream",
     "text": [
      "21.52\n"
     ]
    },
    {
     "ename": "TypeError",
     "evalue": "loc must be int",
     "output_type": "error",
     "traceback": [
      "\u001b[0;31m---------------------------------------------------------------------------\u001b[0m",
      "\u001b[0;31mTypeError\u001b[0m                                 Traceback (most recent call last)",
      "\u001b[0;32m<ipython-input-114-33a0df4d8efd>\u001b[0m in \u001b[0;36m<module>\u001b[0;34m()\u001b[0m\n\u001b[0;32m----> 1\u001b[0;31m \u001b[0mparsed\u001b[0m\u001b[0;34m=\u001b[0m\u001b[0mforecast_weather\u001b[0m\u001b[0;34m(\u001b[0m\u001b[0mjson_parsed\u001b[0m\u001b[0;34m)\u001b[0m\u001b[0;34m\u001b[0m\u001b[0m\n\u001b[0m\u001b[1;32m      2\u001b[0m \u001b[0mprint\u001b[0m \u001b[0;34m(\u001b[0m\u001b[0mparsed\u001b[0m\u001b[0;34m)\u001b[0m\u001b[0;34m\u001b[0m\u001b[0m\n",
      "\u001b[0;32m<ipython-input-110-a7fbc9ba3ea4>\u001b[0m in \u001b[0;36mforecast_weather\u001b[0;34m(self)\u001b[0m\n\u001b[1;32m     28\u001b[0m \u001b[0;34m\u001b[0m\u001b[0m\n\u001b[1;32m     29\u001b[0m         \u001b[0mprint\u001b[0m \u001b[0;34m(\u001b[0m\u001b[0mtemp\u001b[0m\u001b[0;34m)\u001b[0m\u001b[0;34m\u001b[0m\u001b[0m\n\u001b[0;32m---> 30\u001b[0;31m         \u001b[0mdf3\u001b[0m\u001b[0;34m.\u001b[0m\u001b[0minsert\u001b[0m \u001b[0;34m(\u001b[0m\u001b[0mtemp\u001b[0m\u001b[0;34m,\u001b[0m \u001b[0mtemp_min\u001b[0m\u001b[0;34m,\u001b[0m \u001b[0mtemp_max\u001b[0m\u001b[0;34m)\u001b[0m\u001b[0;34m\u001b[0m\u001b[0m\n\u001b[0m\u001b[1;32m     31\u001b[0m                \u001b[0;31m#print(dt_txt)\u001b[0m\u001b[0;34m\u001b[0m\u001b[0;34m\u001b[0m\u001b[0m\n\u001b[1;32m     32\u001b[0m \u001b[0;34m\u001b[0m\u001b[0m\n",
      "\u001b[0;32m/Applications/anaconda/lib/python3.6/site-packages/pandas/core/frame.py\u001b[0m in \u001b[0;36minsert\u001b[0;34m(self, loc, column, value, allow_duplicates)\u001b[0m\n\u001b[1;32m   2519\u001b[0m         \u001b[0mvalue\u001b[0m \u001b[0;34m=\u001b[0m \u001b[0mself\u001b[0m\u001b[0;34m.\u001b[0m\u001b[0m_sanitize_column\u001b[0m\u001b[0;34m(\u001b[0m\u001b[0mcolumn\u001b[0m\u001b[0;34m,\u001b[0m \u001b[0mvalue\u001b[0m\u001b[0;34m,\u001b[0m \u001b[0mbroadcast\u001b[0m\u001b[0;34m=\u001b[0m\u001b[0;32mFalse\u001b[0m\u001b[0;34m)\u001b[0m\u001b[0;34m\u001b[0m\u001b[0m\n\u001b[1;32m   2520\u001b[0m         self._data.insert(loc, column, value,\n\u001b[0;32m-> 2521\u001b[0;31m                           allow_duplicates=allow_duplicates)\n\u001b[0m\u001b[1;32m   2522\u001b[0m \u001b[0;34m\u001b[0m\u001b[0m\n\u001b[1;32m   2523\u001b[0m     \u001b[0;32mdef\u001b[0m \u001b[0massign\u001b[0m\u001b[0;34m(\u001b[0m\u001b[0mself\u001b[0m\u001b[0;34m,\u001b[0m \u001b[0;34m**\u001b[0m\u001b[0mkwargs\u001b[0m\u001b[0;34m)\u001b[0m\u001b[0;34m:\u001b[0m\u001b[0;34m\u001b[0m\u001b[0m\n",
      "\u001b[0;32m/Applications/anaconda/lib/python3.6/site-packages/pandas/core/internals.py\u001b[0m in \u001b[0;36minsert\u001b[0;34m(self, loc, item, value, allow_duplicates)\u001b[0m\n\u001b[1;32m   3811\u001b[0m \u001b[0;34m\u001b[0m\u001b[0m\n\u001b[1;32m   3812\u001b[0m         \u001b[0;32mif\u001b[0m \u001b[0;32mnot\u001b[0m \u001b[0misinstance\u001b[0m\u001b[0;34m(\u001b[0m\u001b[0mloc\u001b[0m\u001b[0;34m,\u001b[0m \u001b[0mint\u001b[0m\u001b[0;34m)\u001b[0m\u001b[0;34m:\u001b[0m\u001b[0;34m\u001b[0m\u001b[0m\n\u001b[0;32m-> 3813\u001b[0;31m             \u001b[0;32mraise\u001b[0m \u001b[0mTypeError\u001b[0m\u001b[0;34m(\u001b[0m\u001b[0;34m\"loc must be int\"\u001b[0m\u001b[0;34m)\u001b[0m\u001b[0;34m\u001b[0m\u001b[0m\n\u001b[0m\u001b[1;32m   3814\u001b[0m \u001b[0;34m\u001b[0m\u001b[0m\n\u001b[1;32m   3815\u001b[0m         \u001b[0;31m# insert to the axis; this could possibly raise a TypeError\u001b[0m\u001b[0;34m\u001b[0m\u001b[0;34m\u001b[0m\u001b[0m\n",
      "\u001b[0;31mTypeError\u001b[0m: loc must be int"
     ]
    }
   ],
   "source": [
    "parsed=forecast_weather(json_parsed)\n",
    "print (parsed)"
   ]
  },
  {
   "cell_type": "code",
   "execution_count": 27,
   "metadata": {
    "collapsed": true
   },
   "outputs": [],
   "source": [
    "import pandas as pd"
   ]
  },
  {
   "cell_type": "code",
   "execution_count": 28,
   "metadata": {
    "collapsed": true
   },
   "outputs": [],
   "source": [
    "df = pd.DataFrame(list(json_parsed.items()), columns=['temp', 'min_temp'])"
   ]
  },
  {
   "cell_type": "code",
   "execution_count": 29,
   "metadata": {},
   "outputs": [
    {
     "data": {
      "text/html": [
       "<div>\n",
       "<style>\n",
       "    .dataframe thead tr:only-child th {\n",
       "        text-align: right;\n",
       "    }\n",
       "\n",
       "    .dataframe thead th {\n",
       "        text-align: left;\n",
       "    }\n",
       "\n",
       "    .dataframe tbody tr th {\n",
       "        vertical-align: top;\n",
       "    }\n",
       "</style>\n",
       "<table border=\"1\" class=\"dataframe\">\n",
       "  <thead>\n",
       "    <tr style=\"text-align: right;\">\n",
       "      <th></th>\n",
       "      <th>temp</th>\n",
       "      <th>min_temp</th>\n",
       "    </tr>\n",
       "  </thead>\n",
       "  <tbody>\n",
       "    <tr>\n",
       "      <th>0</th>\n",
       "      <td>cod</td>\n",
       "      <td>200</td>\n",
       "    </tr>\n",
       "    <tr>\n",
       "      <th>1</th>\n",
       "      <td>message</td>\n",
       "      <td>0.002</td>\n",
       "    </tr>\n",
       "    <tr>\n",
       "      <th>2</th>\n",
       "      <td>cnt</td>\n",
       "      <td>40</td>\n",
       "    </tr>\n",
       "    <tr>\n",
       "      <th>3</th>\n",
       "      <td>list</td>\n",
       "      <td>[{'dt': 1530273600, 'main': {'temp': 20.84, 't...</td>\n",
       "    </tr>\n",
       "    <tr>\n",
       "      <th>4</th>\n",
       "      <td>city</td>\n",
       "      <td>{'id': 2964574, 'name': 'Dublin', 'coord': {'l...</td>\n",
       "    </tr>\n",
       "  </tbody>\n",
       "</table>\n",
       "</div>"
      ],
      "text/plain": [
       "      temp                                           min_temp\n",
       "0      cod                                                200\n",
       "1  message                                              0.002\n",
       "2      cnt                                                 40\n",
       "3     list  [{'dt': 1530273600, 'main': {'temp': 20.84, 't...\n",
       "4     city  {'id': 2964574, 'name': 'Dublin', 'coord': {'l..."
      ]
     },
     "execution_count": 29,
     "metadata": {},
     "output_type": "execute_result"
    }
   ],
   "source": [
    "df"
   ]
  },
  {
   "cell_type": "code",
   "execution_count": 30,
   "metadata": {
    "collapsed": true
   },
   "outputs": [],
   "source": [
    "df1 = pd.DataFrame(list(json_parsed.items()))"
   ]
  },
  {
   "cell_type": "code",
   "execution_count": 31,
   "metadata": {},
   "outputs": [
    {
     "data": {
      "text/html": [
       "<div>\n",
       "<style>\n",
       "    .dataframe thead tr:only-child th {\n",
       "        text-align: right;\n",
       "    }\n",
       "\n",
       "    .dataframe thead th {\n",
       "        text-align: left;\n",
       "    }\n",
       "\n",
       "    .dataframe tbody tr th {\n",
       "        vertical-align: top;\n",
       "    }\n",
       "</style>\n",
       "<table border=\"1\" class=\"dataframe\">\n",
       "  <thead>\n",
       "    <tr style=\"text-align: right;\">\n",
       "      <th></th>\n",
       "      <th>0</th>\n",
       "      <th>1</th>\n",
       "    </tr>\n",
       "  </thead>\n",
       "  <tbody>\n",
       "    <tr>\n",
       "      <th>0</th>\n",
       "      <td>cod</td>\n",
       "      <td>200</td>\n",
       "    </tr>\n",
       "    <tr>\n",
       "      <th>1</th>\n",
       "      <td>message</td>\n",
       "      <td>0.002</td>\n",
       "    </tr>\n",
       "    <tr>\n",
       "      <th>2</th>\n",
       "      <td>cnt</td>\n",
       "      <td>40</td>\n",
       "    </tr>\n",
       "    <tr>\n",
       "      <th>3</th>\n",
       "      <td>list</td>\n",
       "      <td>[{'dt': 1530273600, 'main': {'temp': 20.84, 't...</td>\n",
       "    </tr>\n",
       "    <tr>\n",
       "      <th>4</th>\n",
       "      <td>city</td>\n",
       "      <td>{'id': 2964574, 'name': 'Dublin', 'coord': {'l...</td>\n",
       "    </tr>\n",
       "  </tbody>\n",
       "</table>\n",
       "</div>"
      ],
      "text/plain": [
       "         0                                                  1\n",
       "0      cod                                                200\n",
       "1  message                                              0.002\n",
       "2      cnt                                                 40\n",
       "3     list  [{'dt': 1530273600, 'main': {'temp': 20.84, 't...\n",
       "4     city  {'id': 2964574, 'name': 'Dublin', 'coord': {'l..."
      ]
     },
     "execution_count": 31,
     "metadata": {},
     "output_type": "execute_result"
    }
   ],
   "source": [
    "df1"
   ]
  },
  {
   "cell_type": "code",
   "execution_count": 32,
   "metadata": {},
   "outputs": [
    {
     "data": {
      "text/plain": [
       "<function __main__.weather.current_weather>"
      ]
     },
     "execution_count": 32,
     "metadata": {},
     "output_type": "execute_result"
    }
   ],
   "source": [
    "weather.current_weather"
   ]
  },
  {
   "cell_type": "code",
   "execution_count": 35,
   "metadata": {},
   "outputs": [
    {
     "name": "stdout",
     "output_type": "stream",
     "text": [
      "<function weather.current_weather at 0x10f75de18>\n"
     ]
    }
   ],
   "source": [
    "print (weather.current_weather)"
   ]
  },
  {
   "cell_type": "code",
   "execution_count": null,
   "metadata": {
    "collapsed": true
   },
   "outputs": [],
   "source": []
  },
  {
   "cell_type": "code",
   "execution_count": 6,
   "metadata": {},
   "outputs": [],
   "source": [
    "url=\"https://data.smartdublin.ie/cgi-bin/rtpi/realtimebusinformation?stopid=1436&format=json\"\n",
    "call_api(url)\n",
    "data = call_api(url)\n",
    "json_parsed=write_file(data)"
   ]
  },
  {
   "cell_type": "code",
   "execution_count": 7,
   "metadata": {},
   "outputs": [
    {
     "data": {
      "text/plain": [
       "{'errorcode': '0',\n",
       " 'errormessage': '',\n",
       " 'numberofresults': 9,\n",
       " 'results': [{'additionalinformation': '',\n",
       "   'arrivaldatetime': '01/07/2018 13:06:16',\n",
       "   'departuredatetime': '01/07/2018 13:06:16',\n",
       "   'departureduetime': 'Due',\n",
       "   'destination': 'Rialto',\n",
       "   'destinationlocalized': 'Rialto',\n",
       "   'direction': 'Inbound',\n",
       "   'duetime': 'Due',\n",
       "   'lowfloorstatus': 'no',\n",
       "   'monitored': 'true',\n",
       "   'operator': 'bac',\n",
       "   'origin': 'Blackrock',\n",
       "   'originlocalized': 'An Charraig Dhubh ',\n",
       "   'route': '17',\n",
       "   'scheduledarrivaldatetime': '01/07/2018 12:58:00',\n",
       "   'scheduleddeparturedatetime': '01/07/2018 12:58:00',\n",
       "   'sourcetimestamp': '01/07/2018 13:02:27'},\n",
       "  {'additionalinformation': '',\n",
       "   'arrivaldatetime': '01/07/2018 13:22:39',\n",
       "   'departuredatetime': '01/07/2018 13:22:39',\n",
       "   'departureduetime': '16',\n",
       "   'destination': 'Clare Hall',\n",
       "   'destinationlocalized': 'Halla an Chláir',\n",
       "   'direction': 'Inbound',\n",
       "   'duetime': '16',\n",
       "   'lowfloorstatus': 'no',\n",
       "   'monitored': 'true',\n",
       "   'operator': 'bac',\n",
       "   'origin': 'Fortunestown Rd',\n",
       "   'originlocalized': 'Fortunestown Rd',\n",
       "   'route': '27',\n",
       "   'scheduledarrivaldatetime': '01/07/2018 13:16:00',\n",
       "   'scheduleddeparturedatetime': '01/07/2018 13:16:00',\n",
       "   'sourcetimestamp': '01/07/2018 13:05:45'},\n",
       "  {'additionalinformation': '',\n",
       "   'arrivaldatetime': '01/07/2018 13:31:44',\n",
       "   'departuredatetime': '01/07/2018 13:31:44',\n",
       "   'departureduetime': '25',\n",
       "   'destination': 'Docklands',\n",
       "   'destinationlocalized': 'Docklands',\n",
       "   'direction': 'Inbound',\n",
       "   'duetime': '25',\n",
       "   'lowfloorstatus': 'no',\n",
       "   'monitored': 'true',\n",
       "   'operator': 'bac',\n",
       "   'origin': 'Griffeen Avenue',\n",
       "   'originlocalized': 'Griffeen Avenue',\n",
       "   'route': '151',\n",
       "   'scheduledarrivaldatetime': '01/07/2018 13:28:00',\n",
       "   'scheduleddeparturedatetime': '01/07/2018 13:28:00',\n",
       "   'sourcetimestamp': '01/07/2018 12:52:33'},\n",
       "  {'additionalinformation': '',\n",
       "   'arrivaldatetime': '01/07/2018 13:32:59',\n",
       "   'departuredatetime': '01/07/2018 13:32:59',\n",
       "   'departureduetime': '26',\n",
       "   'destination': 'Ringsend Road',\n",
       "   'destinationlocalized': 'Ringsend Road',\n",
       "   'direction': 'Inbound',\n",
       "   'duetime': '26',\n",
       "   'lowfloorstatus': 'no',\n",
       "   'monitored': 'true',\n",
       "   'operator': 'bac',\n",
       "   'origin': 'Citywest Rd ',\n",
       "   'originlocalized': 'Citywest Rd ',\n",
       "   'route': '77A',\n",
       "   'scheduledarrivaldatetime': '01/07/2018 13:31:00',\n",
       "   'scheduleddeparturedatetime': '01/07/2018 13:31:00',\n",
       "   'sourcetimestamp': '01/07/2018 13:05:45'},\n",
       "  {'additionalinformation': '',\n",
       "   'arrivaldatetime': '01/07/2018 13:44:18',\n",
       "   'departuredatetime': '01/07/2018 13:44:18',\n",
       "   'departureduetime': '38',\n",
       "   'destination': 'Clare Hall',\n",
       "   'destinationlocalized': 'Halla an Chláir',\n",
       "   'direction': 'Inbound',\n",
       "   'duetime': '38',\n",
       "   'lowfloorstatus': 'no',\n",
       "   'monitored': 'true',\n",
       "   'operator': 'bac',\n",
       "   'origin': 'Fortunestown Rd',\n",
       "   'originlocalized': 'Fortunestown Rd',\n",
       "   'route': '27',\n",
       "   'scheduledarrivaldatetime': '01/07/2018 13:36:00',\n",
       "   'scheduleddeparturedatetime': '01/07/2018 13:36:00',\n",
       "   'sourcetimestamp': '01/07/2018 12:55:51'},\n",
       "  {'additionalinformation': '',\n",
       "   'arrivaldatetime': '01/07/2018 13:53:25',\n",
       "   'departuredatetime': '01/07/2018 13:53:25',\n",
       "   'departureduetime': '47',\n",
       "   'destination': 'Docklands',\n",
       "   'destinationlocalized': 'Docklands',\n",
       "   'direction': 'Inbound',\n",
       "   'duetime': '47',\n",
       "   'lowfloorstatus': 'no',\n",
       "   'monitored': 'true',\n",
       "   'operator': 'bac',\n",
       "   'origin': 'Griffeen Avenue',\n",
       "   'originlocalized': 'Griffeen Avenue',\n",
       "   'route': '151',\n",
       "   'scheduledarrivaldatetime': '01/07/2018 13:53:00',\n",
       "   'scheduleddeparturedatetime': '01/07/2018 13:53:00',\n",
       "   'sourcetimestamp': '01/07/2018 12:54:12'},\n",
       "  {'additionalinformation': '',\n",
       "   'arrivaldatetime': '01/07/2018 13:56:12',\n",
       "   'departuredatetime': '01/07/2018 13:56:12',\n",
       "   'departureduetime': '50',\n",
       "   'destination': 'Clare Hall',\n",
       "   'destinationlocalized': 'Halla an Chláir',\n",
       "   'direction': 'Inbound',\n",
       "   'duetime': '50',\n",
       "   'lowfloorstatus': 'no',\n",
       "   'monitored': 'true',\n",
       "   'operator': 'bac',\n",
       "   'origin': 'Fortunestown Rd',\n",
       "   'originlocalized': 'Fortunestown Rd',\n",
       "   'route': '27',\n",
       "   'scheduledarrivaldatetime': '01/07/2018 13:56:00',\n",
       "   'scheduleddeparturedatetime': '01/07/2018 13:56:00',\n",
       "   'sourcetimestamp': '01/07/2018 12:57:30'},\n",
       "  {'additionalinformation': '',\n",
       "   'arrivaldatetime': '01/07/2018 14:00:25',\n",
       "   'departuredatetime': '01/07/2018 14:00:25',\n",
       "   'departureduetime': '54',\n",
       "   'destination': 'Ringsend Road',\n",
       "   'destinationlocalized': 'Ringsend Road',\n",
       "   'direction': 'Inbound',\n",
       "   'duetime': '54',\n",
       "   'lowfloorstatus': 'no',\n",
       "   'monitored': 'true',\n",
       "   'operator': 'bac',\n",
       "   'origin': 'Tallaght',\n",
       "   'originlocalized': 'Tamhlacht',\n",
       "   'route': '56A',\n",
       "   'scheduledarrivaldatetime': '01/07/2018 14:00:00',\n",
       "   'scheduleddeparturedatetime': '01/07/2018 14:00:00',\n",
       "   'sourcetimestamp': '01/07/2018 13:00:47'},\n",
       "  {'additionalinformation': '',\n",
       "   'arrivaldatetime': '01/07/2018 14:01:11',\n",
       "   'departuredatetime': '01/07/2018 14:01:11',\n",
       "   'departureduetime': '55',\n",
       "   'destination': 'Ringsend Road',\n",
       "   'destinationlocalized': 'Ringsend Road',\n",
       "   'direction': 'Inbound',\n",
       "   'duetime': '55',\n",
       "   'lowfloorstatus': 'no',\n",
       "   'monitored': 'true',\n",
       "   'operator': 'bac',\n",
       "   'origin': 'Citywest Rd ',\n",
       "   'originlocalized': 'Citywest Rd ',\n",
       "   'route': '77A',\n",
       "   'scheduledarrivaldatetime': '01/07/2018 14:01:00',\n",
       "   'scheduleddeparturedatetime': '01/07/2018 14:01:00',\n",
       "   'sourcetimestamp': '01/07/2018 13:02:27'}],\n",
       " 'stopid': '1436',\n",
       " 'timestamp': '01/07/2018 13:06:10'}"
      ]
     },
     "execution_count": 7,
     "metadata": {},
     "output_type": "execute_result"
    }
   ],
   "source": [
    "json_parsed"
   ]
  },
  {
   "cell_type": "code",
   "execution_count": 6,
   "metadata": {},
   "outputs": [
    {
     "name": "stdout",
     "output_type": "stream",
     "text": [
      "<class 'dict'>\n"
     ]
    }
   ],
   "source": [
    "print (type(json_parsed))"
   ]
  },
  {
   "cell_type": "code",
   "execution_count": 7,
   "metadata": {
    "collapsed": true
   },
   "outputs": [],
   "source": [
    "list = json_parsed['results']"
   ]
  },
  {
   "cell_type": "code",
   "execution_count": 8,
   "metadata": {
    "collapsed": true
   },
   "outputs": [],
   "source": [
    "hiya = list[0]"
   ]
  },
  {
   "cell_type": "code",
   "execution_count": 9,
   "metadata": {},
   "outputs": [
    {
     "data": {
      "text/plain": [
       "{'additionalinformation': '',\n",
       " 'arrivaldatetime': '01/07/2018 12:28:58',\n",
       " 'departuredatetime': '01/07/2018 12:28:58',\n",
       " 'departureduetime': '12',\n",
       " 'destination': 'Ringsend Road',\n",
       " 'destinationlocalized': 'Ringsend Road',\n",
       " 'direction': 'Inbound',\n",
       " 'duetime': '12',\n",
       " 'lowfloorstatus': 'no',\n",
       " 'monitored': 'true',\n",
       " 'operator': 'bac',\n",
       " 'origin': 'Citywest Rd ',\n",
       " 'originlocalized': 'Citywest Rd ',\n",
       " 'route': '77A',\n",
       " 'scheduledarrivaldatetime': '01/07/2018 12:25:00',\n",
       " 'scheduleddeparturedatetime': '01/07/2018 12:25:00',\n",
       " 'sourcetimestamp': '01/07/2018 11:59:42'}"
      ]
     },
     "execution_count": 9,
     "metadata": {},
     "output_type": "execute_result"
    }
   ],
   "source": [
    "hiya"
   ]
  },
  {
   "cell_type": "code",
   "execution_count": 10,
   "metadata": {
    "collapsed": true
   },
   "outputs": [],
   "source": [
    "hiya1=list[3]"
   ]
  },
  {
   "cell_type": "code",
   "execution_count": 11,
   "metadata": {},
   "outputs": [
    {
     "data": {
      "text/plain": [
       "{'additionalinformation': '',\n",
       " 'arrivaldatetime': '01/07/2018 12:44:43',\n",
       " 'departuredatetime': '01/07/2018 12:44:43',\n",
       " 'departureduetime': '28',\n",
       " 'destination': 'Ringsend Road',\n",
       " 'destinationlocalized': 'Ringsend Road',\n",
       " 'direction': 'Inbound',\n",
       " 'duetime': '28',\n",
       " 'lowfloorstatus': 'no',\n",
       " 'monitored': 'true',\n",
       " 'operator': 'bac',\n",
       " 'origin': 'Tallaght',\n",
       " 'originlocalized': 'Tamhlacht',\n",
       " 'route': '56A',\n",
       " 'scheduledarrivaldatetime': '01/07/2018 12:45:00',\n",
       " 'scheduleddeparturedatetime': '01/07/2018 12:45:00',\n",
       " 'sourcetimestamp': '01/07/2018 12:16:11'}"
      ]
     },
     "execution_count": 11,
     "metadata": {},
     "output_type": "execute_result"
    }
   ],
   "source": [
    "hiya1"
   ]
  },
  {
   "cell_type": "code",
   "execution_count": 12,
   "metadata": {},
   "outputs": [
    {
     "data": {
      "text/plain": [
       "'01/07/2018 12:28:58'"
      ]
     },
     "execution_count": 12,
     "metadata": {},
     "output_type": "execute_result"
    }
   ],
   "source": [
    "hiya['arrivaldatetime']"
   ]
  },
  {
   "cell_type": "code",
   "execution_count": 21,
   "metadata": {},
   "outputs": [
    {
     "ename": "ModuleNotFoundError",
     "evalue": "No module named 'mysql'",
     "output_type": "error",
     "traceback": [
      "\u001b[0;31m---------------------------------------------------------------------------\u001b[0m",
      "\u001b[0;31mModuleNotFoundError\u001b[0m                       Traceback (most recent call last)",
      "\u001b[0;32m<ipython-input-21-68ee03561882>\u001b[0m in \u001b[0;36m<module>\u001b[0;34m()\u001b[0m\n\u001b[1;32m      1\u001b[0m \u001b[0;32mimport\u001b[0m \u001b[0mrequests\u001b[0m\u001b[0;34m\u001b[0m\u001b[0m\n\u001b[1;32m      2\u001b[0m \u001b[0;32mimport\u001b[0m \u001b[0mjson\u001b[0m\u001b[0;34m\u001b[0m\u001b[0m\n\u001b[0;32m----> 3\u001b[0;31m \u001b[0;32mimport\u001b[0m \u001b[0mmysql\u001b[0m\u001b[0;34m.\u001b[0m\u001b[0mconnector\u001b[0m\u001b[0;34m\u001b[0m\u001b[0m\n\u001b[0m\u001b[1;32m      4\u001b[0m \u001b[0;32mfrom\u001b[0m \u001b[0mmysql\u001b[0m\u001b[0;34m.\u001b[0m\u001b[0mconnector\u001b[0m \u001b[0;32mimport\u001b[0m \u001b[0merrorcode\u001b[0m\u001b[0;34m\u001b[0m\u001b[0m\n\u001b[1;32m      5\u001b[0m \u001b[0;32mimport\u001b[0m \u001b[0msqlalchemy\u001b[0m\u001b[0;34m\u001b[0m\u001b[0m\n",
      "\u001b[0;31mModuleNotFoundError\u001b[0m: No module named 'mysql'"
     ]
    }
   ],
   "source": [
    "import requests\n",
    "import json\n",
    "import mysql.connector\n",
    "from mysql.connector import errorcode\n",
    "import sqlalchemy\n",
    "from sqlalchemy import create_engine\n",
    "from sqlalchemy.ext.declarative import declarative_base\n",
    "from sqlalchemy import Column, Integer, String\n",
    "from sqlalchemy.orm import sessionmaker\n",
    "from sqlalchemy import *\n",
    "import datetime\n",
    "import pytz\n"
   ]
  },
  {
   "cell_type": "code",
   "execution_count": 22,
   "metadata": {},
   "outputs": [
    {
     "ename": "NameError",
     "evalue": "name 'declarative_base' is not defined",
     "output_type": "error",
     "traceback": [
      "\u001b[0;31m---------------------------------------------------------------------------\u001b[0m",
      "\u001b[0;31mNameError\u001b[0m                                 Traceback (most recent call last)",
      "\u001b[0;32m<ipython-input-22-012d18e0f038>\u001b[0m in \u001b[0;36m<module>\u001b[0;34m()\u001b[0m\n\u001b[1;32m      1\u001b[0m \u001b[0;31m# http://docs.sqlalchemy.org/en/latest/orm/tutorial.html\u001b[0m\u001b[0;34m\u001b[0m\u001b[0;34m\u001b[0m\u001b[0m\n\u001b[0;32m----> 2\u001b[0;31m \u001b[0mBase\u001b[0m \u001b[0;34m=\u001b[0m \u001b[0mdeclarative_base\u001b[0m\u001b[0;34m(\u001b[0m\u001b[0;34m)\u001b[0m\u001b[0;34m\u001b[0m\u001b[0m\n\u001b[0m\u001b[1;32m      3\u001b[0m \u001b[0mSession\u001b[0m \u001b[0;34m=\u001b[0m \u001b[0msessionmaker\u001b[0m\u001b[0;34m(\u001b[0m\u001b[0;34m)\u001b[0m\u001b[0;34m\u001b[0m\u001b[0m\n\u001b[1;32m      4\u001b[0m \u001b[0mmetadata\u001b[0m \u001b[0;34m=\u001b[0m \u001b[0mMetaData\u001b[0m\u001b[0;34m(\u001b[0m\u001b[0;34m)\u001b[0m\u001b[0;34m\u001b[0m\u001b[0m\n",
      "\u001b[0;31mNameError\u001b[0m: name 'declarative_base' is not defined"
     ]
    }
   ],
   "source": [
    "# http://docs.sqlalchemy.org/en/latest/orm/tutorial.html\n",
    "Base = declarative_base()\n",
    "Session = sessionmaker()\n",
    "metadata = MetaData()"
   ]
  },
  {
   "cell_type": "code",
   "execution_count": 20,
   "metadata": {},
   "outputs": [
    {
     "name": "stdout",
     "output_type": "stream",
     "text": [
      "None\n"
     ]
    }
   ],
   "source": [
    "def connect():\n",
    "    \"\"\"Function to connect to database on Amazon Web Services\"\"\"\n",
    "    try:\n",
    "        engine = create_engine(\n",
    "            'mysql+mysqlconnector://root@localhost/sbsw')\n",
    "        #port = 3306\n",
    "        connection = engine.connect()\n",
    "        Session.configure(bind=engine)\n",
    "        return engine\n",
    "        # https://campus.datacamp.com/courses/introduction-to-relational-databases-in-python/advanced-sqlalchemy-queries?ex=2#skiponboarding\n",
    "\n",
    "    except Exception as e:\n",
    "        print(\"An error occurred when connecting to the database: \", e)\n",
    "        # https://dev.mysql.com/doc/connector-python/en/connector-python-api-errors-error.html\n",
    "    # https://campus.datacamp.com/courses/introduction-to-relational-databases-i"
   ]
  },
  {
   "cell_type": "code",
   "execution_count": null,
   "metadata": {
    "collapsed": true
   },
   "outputs": [],
   "source": [
    "def bus_realtime ():\n",
    "    \"\"\"Selects and creates variables that will be stored in dynamic forecast weather table\"\"\"\n",
    "\n",
    "    list=json_parsed['results']\n",
    "    \n",
    "    i=0\n",
    "    length=len(list)\n",
    "    while i < length:\n",
    "\n",
    "        each = list[i]\n",
    "        arrival_time = each['arrivaldatetime']\n",
    "        departure_time = each['departuredatetime']\n",
    "        departing_in = each['departureduetime']\n",
    "        destination = each['destination']\n",
    "        direction = each['direction']\n",
    "        arriving_in = each['duetime']\n",
    "        origin = each['origin']\n",
    "        route=each['route']\n",
    "        scheduled_arrival = each['scheduledarrivaldatetime']\n",
    "        scheduled_departure = each['scheduleddeparturedatetime']\n",
    "        timestamp = each['sourcetimestamp']\n",
    "        i+=1\n",
    "        \n",
    "        \n",
    "       # insert_rtpi(arrival_time, departure_time, departing_in, destination, direction, arriving_in, origin, route, scheduled_arrival, scheduled_departure, timestamp)\n",
    "    #http://pythonda.com/collecting-storing-tweets-python-mysql"
   ]
  },
  {
   "cell_type": "code",
   "execution_count": null,
   "metadata": {
    "collapsed": true
   },
   "outputs": [],
   "source": []
  },
  {
   "cell_type": "code",
   "execution_count": null,
   "metadata": {
    "collapsed": true
   },
   "outputs": [],
   "source": []
  },
  {
   "cell_type": "code",
   "execution_count": null,
   "metadata": {
    "collapsed": true
   },
   "outputs": [],
   "source": []
  },
  {
   "cell_type": "code",
   "execution_count": 13,
   "metadata": {},
   "outputs": [
    {
     "ename": "IndentationError",
     "evalue": "unexpected indent (<ipython-input-13-9725a4ea5242>, line 2)",
     "output_type": "error",
     "traceback": [
      "\u001b[0;36m  File \u001b[0;32m\"<ipython-input-13-9725a4ea5242>\"\u001b[0;36m, line \u001b[0;32m2\u001b[0m\n\u001b[0;31m    i=0\u001b[0m\n\u001b[0m    ^\u001b[0m\n\u001b[0;31mIndentationError\u001b[0m\u001b[0;31m:\u001b[0m unexpected indent\n"
     ]
    }
   ],
   "source": [
    "list = json_parsed['results']\n",
    "    i=0\n",
    "    length = len(list)\n",
    "    while i < length: \n",
    "        each = list[i]\n",
    "        arrival_time = each['arrivaldatetime']\n",
    "        departure_time = each['departuredatetime']\n",
    "        departing_in = each['departureduetime']\n",
    "        destination = each['destination']\n",
    "        direction = each['direction']\n",
    "        arriving_in = each['duetime']\n",
    "        origin = each['origin']\n",
    "        route=each['route']\n",
    "        scheduled_arrival = each['description']\n",
    "        scheduled_departure = each['main']\n",
    "        timestamp = each['sourcetimestamp']\n",
    "     "
   ]
  },
  {
   "cell_type": "code",
   "execution_count": null,
   "metadata": {
    "collapsed": true
   },
   "outputs": [],
   "source": [
    " list1 = json_weather['list']\n",
    "        i = 0\n",
    "        length = len(list1)\n",
    "        while i < length:\n",
    "            \n",
    "            \n",
    "            i+=1"
   ]
  }
 ],
 "metadata": {
  "kernelspec": {
   "display_name": "Python 3",
   "language": "python",
   "name": "python3"
  },
  "language_info": {
   "codemirror_mode": {
    "name": "ipython",
    "version": 3
   },
   "file_extension": ".py",
   "mimetype": "text/x-python",
   "name": "python",
   "nbconvert_exporter": "python",
   "pygments_lexer": "ipython3",
   "version": "3.6.1"
  }
 },
 "nbformat": 4,
 "nbformat_minor": 2
}
