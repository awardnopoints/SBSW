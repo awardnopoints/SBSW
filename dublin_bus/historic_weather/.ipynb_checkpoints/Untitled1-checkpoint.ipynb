{
 "cells": [
  {
   "cell_type": "code",
   "execution_count": 1,
   "metadata": {
    "collapsed": true
   },
   "outputs": [],
   "source": [
    "import requests\n",
    "import json\n",
    "import csv\n",
    "import datetime"
   ]
  },
  {
   "cell_type": "code",
   "execution_count": 2,
   "metadata": {
    "collapsed": true
   },
   "outputs": [],
   "source": [
    "def call_api(url):\n",
    "    \"\"\"Calls API and returns info from that\"\"\"\n",
    "\n",
    "    req = requests.get(url)\n",
    "    return req"
   ]
  },
  {
   "cell_type": "code",
   "execution_count": 3,
   "metadata": {
    "collapsed": true
   },
   "outputs": [],
   "source": [
    "def write_file (data):\n",
    "    \"\"\"Retrieves information from Dublin Bikes API and stores as JSON\"\"\"\n",
    "\n",
    "    req_text= data.text\n",
    "    json_parsed=json.loads(req_text)\n",
    "    return json_parsed"
   ]
  },
  {
   "cell_type": "code",
   "execution_count": 104,
   "metadata": {
    "collapsed": true
   },
   "outputs": [],
   "source": [
    "df3 = pd.DataFrame(columns=['temp', 'temp_min', 'temp_max'])"
   ]
  },
  {
   "cell_type": "code",
   "execution_count": 110,
   "metadata": {
    "collapsed": true
   },
   "outputs": [],
   "source": [
    "def forecast_weather(self):\n",
    "    \"\"\"Selects and creates variables that will be stored in dynamic forecast weather table\"\"\"\n",
    "\n",
    "    list=json_parsed['list']\n",
    "\n",
    "    i=0\n",
    "    length=len(list)\n",
    "    while i < length:\n",
    "\n",
    "        first = list[i]\n",
    "        main=first['main']\n",
    "        temp = main['temp']\n",
    "        temp_min = main['temp_min']\n",
    "        temp_max = main['temp_max']\n",
    "        humidity = main['humidity']\n",
    "        pressure = main['pressure']\n",
    "        weather = first['weather']\n",
    "        weather_desc = weather[0]\n",
    "        description = weather_desc['description']\n",
    "        mainDescription = weather_desc['main']\n",
    "        wind = first['wind']\n",
    "        speed = wind['speed']\n",
    "        deg = wind['deg']\n",
    "        cloud=first['clouds']\n",
    "        cloudiness=cloud['all']\n",
    "        dt_txt = first['dt_txt']\n",
    "        i+=1\n",
    "        \n",
    "        print (temp)\n",
    "        df3.insert (temp, temp_min, temp_max)\n",
    "               #print(dt_txt)    \n",
    "  "
   ]
  },
  {
   "cell_type": "code",
   "execution_count": 111,
   "metadata": {
    "collapsed": true
   },
   "outputs": [],
   "source": [
    "url=\"http://api.openweathermap.org/data/2.5/forecast?id=2964574&units=metric&APPID=bb260f441e7da59a28734895b6574b4d\"\n",
    "#url=\"http://api.openweathermap.org/data/2.5/weather?id=2964574&units=metric&APPID=bb260f441e7da59a28734895b6574b4d\"\n",
    "call_api(url)\n",
    "data = call_api(url)\n",
    "json_parsed=write_file(data)"
   ]
  },
  {
   "cell_type": "code",
   "execution_count": 112,
   "metadata": {},
   "outputs": [
    {
     "name": "stdout",
     "output_type": "stream",
     "text": [
      "cod\n",
      "message\n",
      "cnt\n",
      "list\n",
      "city\n",
      "{'id': 2964574, 'name': 'Dublin', 'coord': {'lat': 53.344, 'lon': -6.2672}, 'country': 'IE'}\n"
     ]
    }
   ],
   "source": [
    "for i in json_parsed:\n",
    "    print (i)\n",
    "    \n",
    "print (json_parsed['city'])\n",
    "#parsed = weather.current_weather(json_parsed)"
   ]
  },
  {
   "cell_type": "code",
   "execution_count": 113,
   "metadata": {},
   "outputs": [
    {
     "data": {
      "text/html": [
       "<div>\n",
       "<style>\n",
       "    .dataframe thead tr:only-child th {\n",
       "        text-align: right;\n",
       "    }\n",
       "\n",
       "    .dataframe thead th {\n",
       "        text-align: left;\n",
       "    }\n",
       "\n",
       "    .dataframe tbody tr th {\n",
       "        vertical-align: top;\n",
       "    }\n",
       "</style>\n",
       "<table border=\"1\" class=\"dataframe\">\n",
       "  <thead>\n",
       "    <tr style=\"text-align: right;\">\n",
       "      <th></th>\n",
       "      <th>temp</th>\n",
       "      <th>temp_min</th>\n",
       "      <th>temp_max</th>\n",
       "    </tr>\n",
       "  </thead>\n",
       "  <tbody>\n",
       "  </tbody>\n",
       "</table>\n",
       "</div>"
      ],
      "text/plain": [
       "Empty DataFrame\n",
       "Columns: [temp, temp_min, temp_max]\n",
       "Index: []"
      ]
     },
     "execution_count": 113,
     "metadata": {},
     "output_type": "execute_result"
    }
   ],
   "source": [
    "df3"
   ]
  },
  {
   "cell_type": "code",
   "execution_count": 114,
   "metadata": {},
   "outputs": [
    {
     "name": "stdout",
     "output_type": "stream",
     "text": [
      "21.52\n"
     ]
    },
    {
     "ename": "TypeError",
     "evalue": "loc must be int",
     "output_type": "error",
     "traceback": [
      "\u001b[0;31m---------------------------------------------------------------------------\u001b[0m",
      "\u001b[0;31mTypeError\u001b[0m                                 Traceback (most recent call last)",
      "\u001b[0;32m<ipython-input-114-33a0df4d8efd>\u001b[0m in \u001b[0;36m<module>\u001b[0;34m()\u001b[0m\n\u001b[0;32m----> 1\u001b[0;31m \u001b[0mparsed\u001b[0m\u001b[0;34m=\u001b[0m\u001b[0mforecast_weather\u001b[0m\u001b[0;34m(\u001b[0m\u001b[0mjson_parsed\u001b[0m\u001b[0;34m)\u001b[0m\u001b[0;34m\u001b[0m\u001b[0m\n\u001b[0m\u001b[1;32m      2\u001b[0m \u001b[0mprint\u001b[0m \u001b[0;34m(\u001b[0m\u001b[0mparsed\u001b[0m\u001b[0;34m)\u001b[0m\u001b[0;34m\u001b[0m\u001b[0m\n",
      "\u001b[0;32m<ipython-input-110-a7fbc9ba3ea4>\u001b[0m in \u001b[0;36mforecast_weather\u001b[0;34m(self)\u001b[0m\n\u001b[1;32m     28\u001b[0m \u001b[0;34m\u001b[0m\u001b[0m\n\u001b[1;32m     29\u001b[0m         \u001b[0mprint\u001b[0m \u001b[0;34m(\u001b[0m\u001b[0mtemp\u001b[0m\u001b[0;34m)\u001b[0m\u001b[0;34m\u001b[0m\u001b[0m\n\u001b[0;32m---> 30\u001b[0;31m         \u001b[0mdf3\u001b[0m\u001b[0;34m.\u001b[0m\u001b[0minsert\u001b[0m \u001b[0;34m(\u001b[0m\u001b[0mtemp\u001b[0m\u001b[0;34m,\u001b[0m \u001b[0mtemp_min\u001b[0m\u001b[0;34m,\u001b[0m \u001b[0mtemp_max\u001b[0m\u001b[0;34m)\u001b[0m\u001b[0;34m\u001b[0m\u001b[0m\n\u001b[0m\u001b[1;32m     31\u001b[0m                \u001b[0;31m#print(dt_txt)\u001b[0m\u001b[0;34m\u001b[0m\u001b[0;34m\u001b[0m\u001b[0m\n\u001b[1;32m     32\u001b[0m \u001b[0;34m\u001b[0m\u001b[0m\n",
      "\u001b[0;32m/Applications/anaconda/lib/python3.6/site-packages/pandas/core/frame.py\u001b[0m in \u001b[0;36minsert\u001b[0;34m(self, loc, column, value, allow_duplicates)\u001b[0m\n\u001b[1;32m   2519\u001b[0m         \u001b[0mvalue\u001b[0m \u001b[0;34m=\u001b[0m \u001b[0mself\u001b[0m\u001b[0;34m.\u001b[0m\u001b[0m_sanitize_column\u001b[0m\u001b[0;34m(\u001b[0m\u001b[0mcolumn\u001b[0m\u001b[0;34m,\u001b[0m \u001b[0mvalue\u001b[0m\u001b[0;34m,\u001b[0m \u001b[0mbroadcast\u001b[0m\u001b[0;34m=\u001b[0m\u001b[0;32mFalse\u001b[0m\u001b[0;34m)\u001b[0m\u001b[0;34m\u001b[0m\u001b[0m\n\u001b[1;32m   2520\u001b[0m         self._data.insert(loc, column, value,\n\u001b[0;32m-> 2521\u001b[0;31m                           allow_duplicates=allow_duplicates)\n\u001b[0m\u001b[1;32m   2522\u001b[0m \u001b[0;34m\u001b[0m\u001b[0m\n\u001b[1;32m   2523\u001b[0m     \u001b[0;32mdef\u001b[0m \u001b[0massign\u001b[0m\u001b[0;34m(\u001b[0m\u001b[0mself\u001b[0m\u001b[0;34m,\u001b[0m \u001b[0;34m**\u001b[0m\u001b[0mkwargs\u001b[0m\u001b[0;34m)\u001b[0m\u001b[0;34m:\u001b[0m\u001b[0;34m\u001b[0m\u001b[0m\n",
      "\u001b[0;32m/Applications/anaconda/lib/python3.6/site-packages/pandas/core/internals.py\u001b[0m in \u001b[0;36minsert\u001b[0;34m(self, loc, item, value, allow_duplicates)\u001b[0m\n\u001b[1;32m   3811\u001b[0m \u001b[0;34m\u001b[0m\u001b[0m\n\u001b[1;32m   3812\u001b[0m         \u001b[0;32mif\u001b[0m \u001b[0;32mnot\u001b[0m \u001b[0misinstance\u001b[0m\u001b[0;34m(\u001b[0m\u001b[0mloc\u001b[0m\u001b[0;34m,\u001b[0m \u001b[0mint\u001b[0m\u001b[0;34m)\u001b[0m\u001b[0;34m:\u001b[0m\u001b[0;34m\u001b[0m\u001b[0m\n\u001b[0;32m-> 3813\u001b[0;31m             \u001b[0;32mraise\u001b[0m \u001b[0mTypeError\u001b[0m\u001b[0;34m(\u001b[0m\u001b[0;34m\"loc must be int\"\u001b[0m\u001b[0;34m)\u001b[0m\u001b[0;34m\u001b[0m\u001b[0m\n\u001b[0m\u001b[1;32m   3814\u001b[0m \u001b[0;34m\u001b[0m\u001b[0m\n\u001b[1;32m   3815\u001b[0m         \u001b[0;31m# insert to the axis; this could possibly raise a TypeError\u001b[0m\u001b[0;34m\u001b[0m\u001b[0;34m\u001b[0m\u001b[0m\n",
      "\u001b[0;31mTypeError\u001b[0m: loc must be int"
     ]
    }
   ],
   "source": [
    "parsed=forecast_weather(json_parsed)\n",
    "print (parsed)"
   ]
  },
  {
   "cell_type": "code",
   "execution_count": 27,
   "metadata": {
    "collapsed": true
   },
   "outputs": [],
   "source": [
    "import pandas as pd"
   ]
  },
  {
   "cell_type": "code",
   "execution_count": 28,
   "metadata": {
    "collapsed": true
   },
   "outputs": [],
   "source": [
    "df = pd.DataFrame(list(json_parsed.items()), columns=['temp', 'min_temp'])"
   ]
  },
  {
   "cell_type": "code",
   "execution_count": 29,
   "metadata": {},
   "outputs": [
    {
     "data": {
      "text/html": [
       "<div>\n",
       "<style>\n",
       "    .dataframe thead tr:only-child th {\n",
       "        text-align: right;\n",
       "    }\n",
       "\n",
       "    .dataframe thead th {\n",
       "        text-align: left;\n",
       "    }\n",
       "\n",
       "    .dataframe tbody tr th {\n",
       "        vertical-align: top;\n",
       "    }\n",
       "</style>\n",
       "<table border=\"1\" class=\"dataframe\">\n",
       "  <thead>\n",
       "    <tr style=\"text-align: right;\">\n",
       "      <th></th>\n",
       "      <th>temp</th>\n",
       "      <th>min_temp</th>\n",
       "    </tr>\n",
       "  </thead>\n",
       "  <tbody>\n",
       "    <tr>\n",
       "      <th>0</th>\n",
       "      <td>cod</td>\n",
       "      <td>200</td>\n",
       "    </tr>\n",
       "    <tr>\n",
       "      <th>1</th>\n",
       "      <td>message</td>\n",
       "      <td>0.002</td>\n",
       "    </tr>\n",
       "    <tr>\n",
       "      <th>2</th>\n",
       "      <td>cnt</td>\n",
       "      <td>40</td>\n",
       "    </tr>\n",
       "    <tr>\n",
       "      <th>3</th>\n",
       "      <td>list</td>\n",
       "      <td>[{'dt': 1530273600, 'main': {'temp': 20.84, 't...</td>\n",
       "    </tr>\n",
       "    <tr>\n",
       "      <th>4</th>\n",
       "      <td>city</td>\n",
       "      <td>{'id': 2964574, 'name': 'Dublin', 'coord': {'l...</td>\n",
       "    </tr>\n",
       "  </tbody>\n",
       "</table>\n",
       "</div>"
      ],
      "text/plain": [
       "      temp                                           min_temp\n",
       "0      cod                                                200\n",
       "1  message                                              0.002\n",
       "2      cnt                                                 40\n",
       "3     list  [{'dt': 1530273600, 'main': {'temp': 20.84, 't...\n",
       "4     city  {'id': 2964574, 'name': 'Dublin', 'coord': {'l..."
      ]
     },
     "execution_count": 29,
     "metadata": {},
     "output_type": "execute_result"
    }
   ],
   "source": [
    "df"
   ]
  },
  {
   "cell_type": "code",
   "execution_count": 30,
   "metadata": {
    "collapsed": true
   },
   "outputs": [],
   "source": [
    "df1 = pd.DataFrame(list(json_parsed.items()))"
   ]
  },
  {
   "cell_type": "code",
   "execution_count": 31,
   "metadata": {},
   "outputs": [
    {
     "data": {
      "text/html": [
       "<div>\n",
       "<style>\n",
       "    .dataframe thead tr:only-child th {\n",
       "        text-align: right;\n",
       "    }\n",
       "\n",
       "    .dataframe thead th {\n",
       "        text-align: left;\n",
       "    }\n",
       "\n",
       "    .dataframe tbody tr th {\n",
       "        vertical-align: top;\n",
       "    }\n",
       "</style>\n",
       "<table border=\"1\" class=\"dataframe\">\n",
       "  <thead>\n",
       "    <tr style=\"text-align: right;\">\n",
       "      <th></th>\n",
       "      <th>0</th>\n",
       "      <th>1</th>\n",
       "    </tr>\n",
       "  </thead>\n",
       "  <tbody>\n",
       "    <tr>\n",
       "      <th>0</th>\n",
       "      <td>cod</td>\n",
       "      <td>200</td>\n",
       "    </tr>\n",
       "    <tr>\n",
       "      <th>1</th>\n",
       "      <td>message</td>\n",
       "      <td>0.002</td>\n",
       "    </tr>\n",
       "    <tr>\n",
       "      <th>2</th>\n",
       "      <td>cnt</td>\n",
       "      <td>40</td>\n",
       "    </tr>\n",
       "    <tr>\n",
       "      <th>3</th>\n",
       "      <td>list</td>\n",
       "      <td>[{'dt': 1530273600, 'main': {'temp': 20.84, 't...</td>\n",
       "    </tr>\n",
       "    <tr>\n",
       "      <th>4</th>\n",
       "      <td>city</td>\n",
       "      <td>{'id': 2964574, 'name': 'Dublin', 'coord': {'l...</td>\n",
       "    </tr>\n",
       "  </tbody>\n",
       "</table>\n",
       "</div>"
      ],
      "text/plain": [
       "         0                                                  1\n",
       "0      cod                                                200\n",
       "1  message                                              0.002\n",
       "2      cnt                                                 40\n",
       "3     list  [{'dt': 1530273600, 'main': {'temp': 20.84, 't...\n",
       "4     city  {'id': 2964574, 'name': 'Dublin', 'coord': {'l..."
      ]
     },
     "execution_count": 31,
     "metadata": {},
     "output_type": "execute_result"
    }
   ],
   "source": [
    "df1"
   ]
  },
  {
   "cell_type": "code",
   "execution_count": 32,
   "metadata": {},
   "outputs": [
    {
     "data": {
      "text/plain": [
       "<function __main__.weather.current_weather>"
      ]
     },
     "execution_count": 32,
     "metadata": {},
     "output_type": "execute_result"
    }
   ],
   "source": [
    "weather.current_weather"
   ]
  },
  {
   "cell_type": "code",
   "execution_count": 35,
   "metadata": {},
   "outputs": [
    {
     "name": "stdout",
     "output_type": "stream",
     "text": [
      "<function weather.current_weather at 0x10f75de18>\n"
     ]
    }
   ],
   "source": [
    "print (weather.current_weather)"
   ]
  },
  {
   "cell_type": "code",
   "execution_count": null,
   "metadata": {
    "collapsed": true
   },
   "outputs": [],
   "source": []
  },
  {
   "cell_type": "code",
   "execution_count": 24,
   "metadata": {
    "collapsed": true
   },
   "outputs": [],
   "source": [
    "url=\"https://data.smartdublin.ie/cgi-bin/rtpi/realtimebusinformation?stopid=1436&format=json\"\n",
    "call_api(url)\n",
    "data = call_api(url)\n",
    "json_parsed=write_file(data)"
   ]
  },
  {
   "cell_type": "code",
   "execution_count": 25,
   "metadata": {},
   "outputs": [
    {
     "data": {
      "text/plain": [
       "{'errorcode': '0',\n",
       " 'errormessage': '',\n",
       " 'numberofresults': 13,\n",
       " 'results': [{'additionalinformation': '',\n",
       "   'arrivaldatetime': '30/06/2018 13:25:07',\n",
       "   'departuredatetime': '30/06/2018 13:25:07',\n",
       "   'departureduetime': 'Due',\n",
       "   'destination': 'Docklands',\n",
       "   'destinationlocalized': 'Docklands',\n",
       "   'direction': 'Inbound',\n",
       "   'duetime': 'Due',\n",
       "   'lowfloorstatus': 'no',\n",
       "   'monitored': 'true',\n",
       "   'operator': 'bac',\n",
       "   'origin': 'Griffeen Avenue',\n",
       "   'originlocalized': 'Griffeen Avenue',\n",
       "   'route': '151',\n",
       "   'scheduledarrivaldatetime': '30/06/2018 13:20:00',\n",
       "   'scheduleddeparturedatetime': '30/06/2018 13:20:00',\n",
       "   'sourcetimestamp': '30/06/2018 13:20:28'},\n",
       "  {'additionalinformation': '',\n",
       "   'arrivaldatetime': '30/06/2018 13:30:37',\n",
       "   'departuredatetime': '30/06/2018 13:30:37',\n",
       "   'departureduetime': '6',\n",
       "   'destination': 'Ringsend Road',\n",
       "   'destinationlocalized': 'Ringsend Road',\n",
       "   'direction': 'Inbound',\n",
       "   'duetime': '6',\n",
       "   'lowfloorstatus': 'no',\n",
       "   'monitored': 'true',\n",
       "   'operator': 'bac',\n",
       "   'origin': 'Citywest Rd ',\n",
       "   'originlocalized': 'Citywest Rd ',\n",
       "   'route': '77A',\n",
       "   'scheduledarrivaldatetime': '30/06/2018 13:23:00',\n",
       "   'scheduleddeparturedatetime': '30/06/2018 13:23:00',\n",
       "   'sourcetimestamp': '30/06/2018 13:22:07'},\n",
       "  {'additionalinformation': '',\n",
       "   'arrivaldatetime': '30/06/2018 13:35:32',\n",
       "   'departuredatetime': '30/06/2018 13:35:32',\n",
       "   'departureduetime': '11',\n",
       "   'destination': 'Rialto',\n",
       "   'destinationlocalized': 'Rialto',\n",
       "   'direction': 'Inbound',\n",
       "   'duetime': '11',\n",
       "   'lowfloorstatus': 'no',\n",
       "   'monitored': 'true',\n",
       "   'operator': 'bac',\n",
       "   'origin': 'Blackrock',\n",
       "   'originlocalized': 'An Charraig Dhubh ',\n",
       "   'route': '17',\n",
       "   'scheduledarrivaldatetime': '30/06/2018 13:21:00',\n",
       "   'scheduleddeparturedatetime': '30/06/2018 13:21:00',\n",
       "   'sourcetimestamp': '30/06/2018 12:35:56'},\n",
       "  {'additionalinformation': '',\n",
       "   'arrivaldatetime': '30/06/2018 13:36:25',\n",
       "   'departuredatetime': '30/06/2018 13:36:25',\n",
       "   'departureduetime': '11',\n",
       "   'destination': 'Clare Hall',\n",
       "   'destinationlocalized': 'Halla an Chláir',\n",
       "   'direction': 'Inbound',\n",
       "   'duetime': '11',\n",
       "   'lowfloorstatus': 'no',\n",
       "   'monitored': 'true',\n",
       "   'operator': 'bac',\n",
       "   'origin': 'Fortunestown Rd',\n",
       "   'originlocalized': 'Fortunestown Rd',\n",
       "   'route': '27',\n",
       "   'scheduledarrivaldatetime': '30/06/2018 13:30:00',\n",
       "   'scheduleddeparturedatetime': '30/06/2018 13:30:00',\n",
       "   'sourcetimestamp': '30/06/2018 13:20:28'},\n",
       "  {'additionalinformation': '',\n",
       "   'arrivaldatetime': '30/06/2018 13:39:49',\n",
       "   'departuredatetime': '30/06/2018 13:39:49',\n",
       "   'departureduetime': '15',\n",
       "   'destination': 'Docklands',\n",
       "   'destinationlocalized': 'Docklands',\n",
       "   'direction': 'Inbound',\n",
       "   'duetime': '15',\n",
       "   'lowfloorstatus': 'no',\n",
       "   'monitored': 'true',\n",
       "   'operator': 'bac',\n",
       "   'origin': 'Griffeen Avenue',\n",
       "   'originlocalized': 'Griffeen Avenue',\n",
       "   'route': '151',\n",
       "   'scheduledarrivaldatetime': '30/06/2018 13:40:00',\n",
       "   'scheduleddeparturedatetime': '30/06/2018 13:40:00',\n",
       "   'sourcetimestamp': '30/06/2018 13:23:46'},\n",
       "  {'additionalinformation': '',\n",
       "   'arrivaldatetime': '30/06/2018 13:49:37',\n",
       "   'departuredatetime': '30/06/2018 13:49:37',\n",
       "   'departureduetime': '25',\n",
       "   'destination': 'Ringsend Road',\n",
       "   'destinationlocalized': 'Ringsend Road',\n",
       "   'direction': 'Inbound',\n",
       "   'duetime': '25',\n",
       "   'lowfloorstatus': 'no',\n",
       "   'monitored': 'true',\n",
       "   'operator': 'bac',\n",
       "   'origin': 'Citywest Rd ',\n",
       "   'originlocalized': 'Citywest Rd ',\n",
       "   'route': '77A',\n",
       "   'scheduledarrivaldatetime': '30/06/2018 13:43:00',\n",
       "   'scheduleddeparturedatetime': '30/06/2018 13:43:00',\n",
       "   'sourcetimestamp': '30/06/2018 13:22:07'},\n",
       "  {'additionalinformation': '',\n",
       "   'arrivaldatetime': '30/06/2018 13:57:26',\n",
       "   'departuredatetime': '30/06/2018 13:57:26',\n",
       "   'departureduetime': '32',\n",
       "   'destination': 'Rialto',\n",
       "   'destinationlocalized': 'Rialto',\n",
       "   'direction': 'Inbound',\n",
       "   'duetime': '32',\n",
       "   'lowfloorstatus': 'no',\n",
       "   'monitored': 'true',\n",
       "   'operator': 'bac',\n",
       "   'origin': 'Blackrock',\n",
       "   'originlocalized': 'An Charraig Dhubh ',\n",
       "   'route': '17',\n",
       "   'scheduledarrivaldatetime': '30/06/2018 13:51:00',\n",
       "   'scheduleddeparturedatetime': '30/06/2018 13:51:00',\n",
       "   'sourcetimestamp': '30/06/2018 13:20:28'},\n",
       "  {'additionalinformation': '',\n",
       "   'arrivaldatetime': '30/06/2018 14:00:08',\n",
       "   'departuredatetime': '30/06/2018 14:00:08',\n",
       "   'departureduetime': '35',\n",
       "   'destination': 'Docklands',\n",
       "   'destinationlocalized': 'Docklands',\n",
       "   'direction': 'Inbound',\n",
       "   'duetime': '35',\n",
       "   'lowfloorstatus': 'no',\n",
       "   'monitored': 'true',\n",
       "   'operator': 'bac',\n",
       "   'origin': 'Griffeen Avenue',\n",
       "   'originlocalized': 'Griffeen Avenue',\n",
       "   'route': '151',\n",
       "   'scheduledarrivaldatetime': '30/06/2018 14:00:00',\n",
       "   'scheduleddeparturedatetime': '30/06/2018 14:00:00',\n",
       "   'sourcetimestamp': '30/06/2018 13:00:40'},\n",
       "  {'additionalinformation': '',\n",
       "   'arrivaldatetime': '30/06/2018 14:01:40',\n",
       "   'departuredatetime': '30/06/2018 14:01:40',\n",
       "   'departureduetime': '37',\n",
       "   'destination': 'Clare Hall',\n",
       "   'destinationlocalized': 'Halla an Chláir',\n",
       "   'direction': 'Inbound',\n",
       "   'duetime': '37',\n",
       "   'lowfloorstatus': 'no',\n",
       "   'monitored': 'true',\n",
       "   'operator': 'bac',\n",
       "   'origin': 'Fortunestown Rd',\n",
       "   'originlocalized': 'Fortunestown Rd',\n",
       "   'route': '27',\n",
       "   'scheduledarrivaldatetime': '30/06/2018 13:50:00',\n",
       "   'scheduleddeparturedatetime': '30/06/2018 13:50:00',\n",
       "   'sourcetimestamp': '30/06/2018 13:10:34'},\n",
       "  {'additionalinformation': '',\n",
       "   'arrivaldatetime': '30/06/2018 14:04:33',\n",
       "   'departuredatetime': '30/06/2018 14:04:33',\n",
       "   'departureduetime': '40',\n",
       "   'destination': 'Ringsend Road',\n",
       "   'destinationlocalized': 'Ringsend Road',\n",
       "   'direction': 'Inbound',\n",
       "   'duetime': '40',\n",
       "   'lowfloorstatus': 'no',\n",
       "   'monitored': 'true',\n",
       "   'operator': 'bac',\n",
       "   'origin': 'Tallaght',\n",
       "   'originlocalized': 'Tamhlacht',\n",
       "   'route': '56A',\n",
       "   'scheduledarrivaldatetime': '30/06/2018 14:05:00',\n",
       "   'scheduleddeparturedatetime': '30/06/2018 14:05:00',\n",
       "   'sourcetimestamp': '30/06/2018 13:05:37'},\n",
       "  {'additionalinformation': '',\n",
       "   'arrivaldatetime': '30/06/2018 14:10:00',\n",
       "   'departuredatetime': '30/06/2018 14:10:00',\n",
       "   'departureduetime': '45',\n",
       "   'destination': 'Clare Hall',\n",
       "   'destinationlocalized': 'Halla an Chláir',\n",
       "   'direction': 'Inbound',\n",
       "   'duetime': '45',\n",
       "   'lowfloorstatus': 'no',\n",
       "   'monitored': 'true',\n",
       "   'operator': 'bac',\n",
       "   'origin': 'Fortunestown Rd',\n",
       "   'originlocalized': 'Fortunestown Rd',\n",
       "   'route': '27',\n",
       "   'scheduledarrivaldatetime': '30/06/2018 14:10:00',\n",
       "   'scheduleddeparturedatetime': '30/06/2018 14:10:00',\n",
       "   'sourcetimestamp': '30/06/2018 13:10:34'},\n",
       "  {'additionalinformation': '',\n",
       "   'arrivaldatetime': '30/06/2018 14:20:08',\n",
       "   'departuredatetime': '30/06/2018 14:20:08',\n",
       "   'departureduetime': '55',\n",
       "   'destination': 'Docklands',\n",
       "   'destinationlocalized': 'Docklands',\n",
       "   'direction': 'Inbound',\n",
       "   'duetime': '55',\n",
       "   'lowfloorstatus': 'no',\n",
       "   'monitored': 'true',\n",
       "   'operator': 'bac',\n",
       "   'origin': 'Griffeen Avenue',\n",
       "   'originlocalized': 'Griffeen Avenue',\n",
       "   'route': '151',\n",
       "   'scheduledarrivaldatetime': '30/06/2018 14:20:00',\n",
       "   'scheduleddeparturedatetime': '30/06/2018 14:20:00',\n",
       "   'sourcetimestamp': '30/06/2018 13:20:28'},\n",
       "  {'additionalinformation': '',\n",
       "   'arrivaldatetime': '30/06/2018 14:23:25',\n",
       "   'departuredatetime': '30/06/2018 14:23:25',\n",
       "   'departureduetime': '58',\n",
       "   'destination': 'Ringsend Road',\n",
       "   'destinationlocalized': 'Ringsend Road',\n",
       "   'direction': 'Inbound',\n",
       "   'duetime': '58',\n",
       "   'lowfloorstatus': 'no',\n",
       "   'monitored': 'true',\n",
       "   'operator': 'bac',\n",
       "   'origin': 'Citywest Rd ',\n",
       "   'originlocalized': 'Citywest Rd ',\n",
       "   'route': '77A',\n",
       "   'scheduledarrivaldatetime': '30/06/2018 14:23:00',\n",
       "   'scheduleddeparturedatetime': '30/06/2018 14:23:00',\n",
       "   'sourcetimestamp': '30/06/2018 13:23:46'}],\n",
       " 'stopid': '1436',\n",
       " 'timestamp': '30/06/2018 13:24:29'}"
      ]
     },
     "execution_count": 25,
     "metadata": {},
     "output_type": "execute_result"
    }
   ],
   "source": [
    "json_parsed"
   ]
  },
  {
   "cell_type": "code",
   "execution_count": 26,
   "metadata": {},
   "outputs": [
    {
     "name": "stdout",
     "output_type": "stream",
     "text": [
      "<class 'dict'>\n"
     ]
    }
   ],
   "source": [
    "print (type(json_parsed))"
   ]
  },
  {
   "cell_type": "code",
   "execution_count": 27,
   "metadata": {
    "collapsed": true
   },
   "outputs": [],
   "source": [
    "list = json_parsed['results']"
   ]
  },
  {
   "cell_type": "code",
   "execution_count": 28,
   "metadata": {
    "collapsed": true
   },
   "outputs": [],
   "source": [
    "hiya = list[0]"
   ]
  },
  {
   "cell_type": "code",
   "execution_count": 44,
   "metadata": {},
   "outputs": [
    {
     "data": {
      "text/plain": [
       "{'additionalinformation': '',\n",
       " 'arrivaldatetime': '30/06/2018 13:25:07',\n",
       " 'departuredatetime': '30/06/2018 13:25:07',\n",
       " 'departureduetime': 'Due',\n",
       " 'destination': 'Docklands',\n",
       " 'destinationlocalized': 'Docklands',\n",
       " 'direction': 'Inbound',\n",
       " 'duetime': 'Due',\n",
       " 'lowfloorstatus': 'no',\n",
       " 'monitored': 'true',\n",
       " 'operator': 'bac',\n",
       " 'origin': 'Griffeen Avenue',\n",
       " 'originlocalized': 'Griffeen Avenue',\n",
       " 'route': '151',\n",
       " 'scheduledarrivaldatetime': '30/06/2018 13:20:00',\n",
       " 'scheduleddeparturedatetime': '30/06/2018 13:20:00',\n",
       " 'sourcetimestamp': '30/06/2018 13:20:28'}"
      ]
     },
     "execution_count": 44,
     "metadata": {},
     "output_type": "execute_result"
    }
   ],
   "source": [
    "hiya"
   ]
  },
  {
   "cell_type": "code",
   "execution_count": 45,
   "metadata": {
    "collapsed": true
   },
   "outputs": [],
   "source": [
    "hiya1=list[3]"
   ]
  },
  {
   "cell_type": "code",
   "execution_count": 46,
   "metadata": {},
   "outputs": [
    {
     "data": {
      "text/plain": [
       "{'additionalinformation': '',\n",
       " 'arrivaldatetime': '30/06/2018 13:36:25',\n",
       " 'departuredatetime': '30/06/2018 13:36:25',\n",
       " 'departureduetime': '11',\n",
       " 'destination': 'Clare Hall',\n",
       " 'destinationlocalized': 'Halla an Chláir',\n",
       " 'direction': 'Inbound',\n",
       " 'duetime': '11',\n",
       " 'lowfloorstatus': 'no',\n",
       " 'monitored': 'true',\n",
       " 'operator': 'bac',\n",
       " 'origin': 'Fortunestown Rd',\n",
       " 'originlocalized': 'Fortunestown Rd',\n",
       " 'route': '27',\n",
       " 'scheduledarrivaldatetime': '30/06/2018 13:30:00',\n",
       " 'scheduleddeparturedatetime': '30/06/2018 13:30:00',\n",
       " 'sourcetimestamp': '30/06/2018 13:20:28'}"
      ]
     },
     "execution_count": 46,
     "metadata": {},
     "output_type": "execute_result"
    }
   ],
   "source": [
    "hiya1"
   ]
  },
  {
   "cell_type": "code",
   "execution_count": 12,
   "metadata": {},
   "outputs": [
    {
     "data": {
      "text/plain": [
       "'30/06/2018 12:59:10'"
      ]
     },
     "execution_count": 12,
     "metadata": {},
     "output_type": "execute_result"
    }
   ],
   "source": [
    "hiya['arrivaldatetime']"
   ]
  },
  {
   "cell_type": "code",
   "execution_count": 13,
   "metadata": {},
   "outputs": [
    {
     "ename": "IndentationError",
     "evalue": "unexpected indent (<ipython-input-13-9725a4ea5242>, line 2)",
     "output_type": "error",
     "traceback": [
      "\u001b[0;36m  File \u001b[0;32m\"<ipython-input-13-9725a4ea5242>\"\u001b[0;36m, line \u001b[0;32m2\u001b[0m\n\u001b[0;31m    i=0\u001b[0m\n\u001b[0m    ^\u001b[0m\n\u001b[0;31mIndentationError\u001b[0m\u001b[0;31m:\u001b[0m unexpected indent\n"
     ]
    }
   ],
   "source": [
    "list = json_parsed['results']\n",
    "    i=0\n",
    "    length = len(list)\n",
    "    while i < length: \n",
    "        each = list[i]\n",
    "        arrival_time = each['arrivaldatetime']\n",
    "        departure_time = each['departuredatetime']\n",
    "        departing_in = each['departureduetime']\n",
    "        destination = each['destination']\n",
    "        direction = each['direction']\n",
    "        arriving_in = each['duetime']\n",
    "        origin = each['origin']\n",
    "        route=each['route']\n",
    "        scheduled_arrival = each['description']\n",
    "        scheduled_departure = each['main']\n",
    "        timestamp = each['sourcetimestamp']\n",
    "     "
   ]
  },
  {
   "cell_type": "code",
   "execution_count": null,
   "metadata": {
    "collapsed": true
   },
   "outputs": [],
   "source": [
    " list1 = json_weather['list']\n",
    "        i = 0\n",
    "        length = len(list1)\n",
    "        while i < length:\n",
    "            \n",
    "            \n",
    "            i+=1"
   ]
  }
 ],
 "metadata": {
  "kernelspec": {
   "display_name": "Python 3",
   "language": "python",
   "name": "python3"
  },
  "language_info": {
   "codemirror_mode": {
    "name": "ipython",
    "version": 3
   },
   "file_extension": ".py",
   "mimetype": "text/x-python",
   "name": "python",
   "nbconvert_exporter": "python",
   "pygments_lexer": "ipython3",
   "version": "3.6.1"
  }
 },
 "nbformat": 4,
 "nbformat_minor": 2
}
